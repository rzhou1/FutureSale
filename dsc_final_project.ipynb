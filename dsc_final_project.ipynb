{
 "cells": [
  {
   "cell_type": "code",
   "execution_count": 1,
   "metadata": {
    "collapsed": true
   },
   "outputs": [],
   "source": [
    "import pandas as pd\n",
    "import matplotlib.pyplot as plt\n",
    "import numpy as np\n",
    "import seaborn as sns\n",
    "from datetime import datetime\n",
    "%matplotlib inline\n",
    "\n",
    "sales_train = pd.read_csv('sales_train.csv')\n",
    "sales_train.iloc[:, 0] = pd.to_datetime(sales_train.iloc[:, 0], format=\"%d.%m.%Y\")\n",
    "\n",
    "item_en = pd.read_feather('it_en.feather')\n",
    "shops_en = pd.read_feather('sh_en.feather')\n",
    "item_categories_en = pd.read_feather('itc_en.feather')\n",
    "\n",
    "item_en = item_en.rename(columns={'it_name': 'item_name', 'it_id': 'item_id', 'itc_id': 'item_category_id', \n",
    "                        'en_it_name': 'item_name_en'})\n",
    "shops_en = shops_en.rename(columns={'sname': 'shop_name', 'sid': 'shop_id', 'en_sname': 'shop_name_en'})\n",
    "item_categories_en = item_categories_en.rename(columns={'itc_name': 'item_category_name', 'itc_id': 'item_category_id',\n",
    "                                                        'en_itc_name': 'item_category'})\n",
    "\n",
    "train = pd.merge(sales_train, item_en, on='item_id', how='left')\n",
    "train = pd.merge(train, shops_en, on='shop_id', how='left')\n",
    "train = pd.merge(train, item_categories_en, on='item_category_id', how='left')\n"
   ]
  },
  {
   "cell_type": "code",
   "execution_count": 2,
   "metadata": {
    "collapsed": true,
    "scrolled": true
   },
   "outputs": [],
   "source": [
    "#holidays: simplify holiday types as national, observance and season; aggregate each holiday type by month\n",
    "holidays = pd.read_feather('hol.feather')\n",
    "holidays = holidays.rename(columns={'h_name': 'holiday_name', 'h_type': 'holiday_type'})\n",
    "holidays.loc[(holidays['holiday_type']=='National holiday, Orthodox'), 'holiday_type'] = 'National holiday'\n",
    "holidays.loc[(holidays['holiday_type']=='Observance, Orthodox'), 'holiday_type'] = 'Observance'\n",
    "holidays.loc[(holidays['holiday_name']=='Day of Knowledge'), 'holiday_type'] = 'Season'\n",
    "holidays.loc[(holidays['holiday_name']=='Special Operations Forces Day'), 'holiday_type'] = 'Observance'\n",
    "holidays.loc[(holidays['holiday_type']=='De facto holiday'), 'holiday_type'] = 'National holiday'\n",
    "holidays = holidays[holidays['holiday_name']!='Working day']\n",
    "holidays = holidays[holidays['holiday_type']!='Working day (moved weekend)']\n",
    "\n",
    "holidays['h_national'] = holidays['holiday_type']=='National holiday'\n",
    "holidays['h_observance'] = holidays['holiday_type'] == 'Observance'\n",
    "holidays['h_season'] = holidays['holiday_type'] == 'Season'\n",
    "\n",
    "h_types = ['h_national', 'h_observance', 'h_season']\n",
    "for h_feature in h_types:\n",
    "    holidays.loc[holidays[h_feature]==False, h_feature] = np.nan\n",
    "\n",
    "holidays = holidays.fillna(0).drop(['holiday_name', 'holiday_type'], axis=1)\n",
    "holidays = pd.merge(holidays, train[['date', 'date_block_num']], how = 'left', on = 'date', left_index=True, right_index=False)\n",
    "holidays = holidays.drop_duplicates(keep='first')\n",
    "holidays_agg = holidays.groupby('date_block_num', as_index=False).agg({'h_national':'sum', 'h_observance': 'sum', 'h_season': 'sum'})\n"
   ]
  },
  {
   "cell_type": "code",
   "execution_count": 3,
   "metadata": {
    "scrolled": true
   },
   "outputs": [],
   "source": [
    "#add shop location gps coordinates\n",
    "shops_gps = pd.read_csv('shops.csv')\n",
    "shops_gps['Geohash_4'] = shops_gps['Geohash'].astype('str').apply(lambda x: x[:4]) #cut the first 4 letters of Geohash\n",
    "shops_gps['Geohash_4'] = shops_gps['Geohash_4'].astype('str')\n",
    "shops_gps.loc[shops_gps['Geohash_4']=='nan', 'Geohash_4'] = shops_gps['Geohash_4'].mode()[0]\n",
    "\n",
    "shops_geo = pd.merge(shops_en, shops_gps, how='left', on='shop_id')\n",
    "shops_geo = shops_geo.drop(['shop_name', 'shop_name_en', 'shop_name_gps', 'Geohash', 'Lat', 'Lon'], axis=1)\n",
    "shops_geo.columns = ['shop_id', 'geo']\n"
   ]
  },
  {
   "cell_type": "code",
   "execution_count": 9,
   "metadata": {},
   "outputs": [],
   "source": [
    "#Create dataset aggregated by month for every shop/item combination\n",
    "from itertools import product\n",
    "\n",
    "col_index = ['shop_id', 'item_id', 'date_block_num']\n",
    "\n",
    "grid = []\n",
    "for date_block in train['date_block_num'].unique():\n",
    "    shop_month = train[train['date_block_num']==date_block]['shop_id'].unique()\n",
    "    item_month = train[train['date_block_num']==date_block]['item_id'].unique()\n",
    "    grid.append(np.array(list(product(*[shop_month, item_month, [date_block]])), dtype='int32'))\n",
    "    \n",
    "grid = pd.DataFrame(np.vstack(grid), columns = col_index)\n",
    "\n",
    "#aggregate 'item_cnt_day' by month for all shop/item\n",
    "\n",
    "agg_item = train.groupby(col_index, as_index=False).agg({'item_cnt_day': {'item_cnt_M': 'sum'}, 'item_price': {'item_price_M': 'mean'}})\n",
    "agg_item.columns = [col[0] if col[-1]=='' else col[-1] for col in agg_item.columns.values] #rename columns\n",
    "train_m = pd.merge(grid, agg_item, how='left', on=col_index).fillna(0)\n",
    "train_m = train_m.sort_values(['date_block_num', 'shop_id', 'item_id'])\n",
    "\n",
    "#add features 'geo', 'holidays', and 'seasonality' to monthly dataset\n",
    "train_m = pd.merge(train_m, shops_geo, how='left', on='shop_id')\n",
    "train_m = pd.merge(train_m, holidays_agg, how='left', on = 'date_block_num').fillna(0)\n",
    "train_m['seasonality'] = train_m['date_block_num']%12\n",
    "\n",
    "#add feature 'lag sale' to monthly dataset\n",
    "train_m['item_cnt_M_lag1'] = train_m.groupby(['shop_id', 'item_id'])['item_cnt_M'].shift(1)\n",
    "train_m['item_cnt_M_lag1'] = train_m['item_cnt_M_lag1'].fillna(0)\n"
   ]
  },
  {
   "cell_type": "code",
   "execution_count": 14,
   "metadata": {},
   "outputs": [
    {
     "data": {
      "text/plain": [
       "(10913850, 11)"
      ]
     },
     "execution_count": 14,
     "metadata": {},
     "output_type": "execute_result"
    }
   ],
   "source": [
    "train_m.shape"
   ]
  },
  {
   "cell_type": "code",
   "execution_count": null,
   "metadata": {
    "collapsed": true
   },
   "outputs": [],
   "source": [
    "#mean encoding\n",
    "\n"
   ]
  },
  {
   "cell_type": "code",
   "execution_count": null,
   "metadata": {
    "collapsed": true
   },
   "outputs": [],
   "source": [
    "#Advice from week#2, group monthly and predict sales of the month from previous month benchmark\n"
   ]
  },
  {
   "cell_type": "code",
   "execution_count": null,
   "metadata": {
    "collapsed": true
   },
   "outputs": [],
   "source": [
    "#fill rows with nan\n",
    "#fill item_price with mean\n",
    "train['item_cnt_day'] = train['item_cnt_day'].fillna(0)\n",
    "train['item_price'] = train.groupby('item_id')['item_price'].apply(lambda x: x.fillna(x.mean())) #85% filled\n",
    "train['item_price'] = train['item_price'].fillna(0)\n",
    "train['item_price'].isnull().sum()"
   ]
  },
  {
   "cell_type": "code",
   "execution_count": null,
   "metadata": {
    "collapsed": true
   },
   "outputs": [],
   "source": []
  }
 ],
 "metadata": {
  "kernelspec": {
   "display_name": "Python 2",
   "language": "python",
   "name": "python2"
  },
  "language_info": {
   "codemirror_mode": {
    "name": "ipython",
    "version": 2
   },
   "file_extension": ".py",
   "mimetype": "text/x-python",
   "name": "python",
   "nbconvert_exporter": "python",
   "pygments_lexer": "ipython2",
   "version": "2.7.14"
  }
 },
 "nbformat": 4,
 "nbformat_minor": 2
}
